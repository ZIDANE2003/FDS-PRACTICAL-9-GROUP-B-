{
  "nbformat": 4,
  "nbformat_minor": 0,
  "metadata": {
    "colab": {
      "name": "SE32 FDS PRACTICAL 9(Insertion sort)",
      "provenance": [],
      "collapsed_sections": [],
      "toc_visible": true,
      "include_colab_link": true
    },
    "kernelspec": {
      "display_name": "Python 3",
      "name": "python3"
    }
  },
  "cells": [
    {
      "cell_type": "markdown",
      "metadata": {
        "id": "view-in-github",
        "colab_type": "text"
      },
      "source": [
        "<a href=\"https://colab.research.google.com/github/ZIDANE2003/FDS-PRACTICAL-9-GROUP-B-/blob/main/SE32_FDS_PRACTICAL_9(Insertion_sort).ipynb\" target=\"_parent\"><img src=\"https://colab.research.google.com/assets/colab-badge.svg\" alt=\"Open In Colab\"/></a>"
      ]
    },
    {
      "cell_type": "code",
      "metadata": {
        "id": "oOGNhBnOyXG_",
        "colab": {
          "base_uri": "https://localhost:8080/"
        },
        "outputId": "d2fd4c0e-63e5-4805-9148-c29e389adcc3"
      },
      "source": [
        "# INSERTION SORT to Display TOP Five scores of Students\n",
        "stud=[]\n",
        "n=int(input(\"Enter no of students in class:\")) \n",
        "for i in range(n):\n",
        "  num=float(input(\"Enter percentage of students:\"))\n",
        "  stud.append(num)\n",
        "print(\"List of percentage of Students:\",stud,end=\" \")      \n",
        "def InsertSort(stud,n):\n",
        "  for i in range(n):\n",
        "    temp = stud[i]\n",
        "    j = i-1\n",
        "    while((j>=0) and (stud[j]>temp)):\n",
        "      stud[j+1] = stud[j]\n",
        "      j = j-1\n",
        "    stud[j+1] = temp    \n",
        "InsertSort(stud,n) \n",
        "print(\"\\n Top five scores are\")\n",
        "print(stud) \n",
        "\n",
        " \n",
        "\n",
        "\n",
        "\n",
        "\n"
      ],
      "execution_count": 16,
      "outputs": [
        {
          "output_type": "stream",
          "name": "stdout",
          "text": [
            "Enter no of students in class:5\n",
            "Enter percentage of students:78.8\n",
            "Enter percentage of students:65.1\n",
            "Enter percentage of students:70\n",
            "Enter percentage of students:82.2\n",
            "Enter percentage of students:90\n",
            "List of percentage of Students: [78.8, 65.1, 70.0, 82.2, 90.0] \n",
            " Top five scores are\n",
            "[65.1, 70.0, 78.8, 82.2, 90.0]\n"
          ]
        }
      ]
    }
  ]
}