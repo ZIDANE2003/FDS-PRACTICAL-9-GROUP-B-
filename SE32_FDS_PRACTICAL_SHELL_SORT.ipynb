{
  "nbformat": 4,
  "nbformat_minor": 0,
  "metadata": {
    "colab": {
      "name": "SE32 FDS PRACTICAL SHELL SORT",
      "provenance": [],
      "collapsed_sections": [],
      "toc_visible": true,
      "include_colab_link": true
    },
    "kernelspec": {
      "display_name": "Python 3",
      "name": "python3"
    }
  },
  "cells": [
    {
      "cell_type": "markdown",
      "metadata": {
        "id": "view-in-github",
        "colab_type": "text"
      },
      "source": [
        "<a href=\"https://colab.research.google.com/github/ZIDANE2003/FDS-PRACTICAL-9-GROUP-B-/blob/main/SE32_FDS_PRACTICAL_SHELL_SORT.ipynb\" target=\"_parent\"><img src=\"https://colab.research.google.com/assets/colab-badge.svg\" alt=\"Open In Colab\"/></a>"
      ]
    },
    {
      "cell_type": "code",
      "metadata": {
        "id": "LldGBeyf2iId",
        "colab": {
          "base_uri": "https://localhost:8080/"
        },
        "outputId": "30fbe8f9-e4ac-4715-d0c1-ef439e05f58a"
      },
      "source": [
        "stud=[]\n",
        "n=int(input(\"Enter no of students in class:\")) \n",
        "for i in range(n):\n",
        "  num=float(input(\"Enter percentage of students:\"))\n",
        "  stud.append(num)\n",
        "print(\"List of percentage of Students:\",stud,end=\" \")\n",
        "def ShellSort(stud,n):\n",
        "  k = n//2\n",
        "  while k > 0:\n",
        "    for i in range(k,n):\n",
        "      temp = stud[i]\n",
        "      j = i\n",
        "      while(j >=k and stud[j-k] >temp):\n",
        "        stud[j] = stud[j-k]\n",
        "        j=j-k \n",
        "      stud[j] = temp\n",
        "    k = k//2\n",
        "ShellSort(stud,n)\n",
        "print(\"\\n Top five scores are\")    \n",
        "print(stud)        \n",
        "\n",
        "\n",
        "\n",
        "\n"
      ],
      "execution_count": 4,
      "outputs": [
        {
          "output_type": "stream",
          "name": "stdout",
          "text": [
            "Enter no of students in class:5\n",
            "Enter percentage of students:80.1\n",
            "Enter percentage of students:90\n",
            "Enter percentage of students:82.1\n",
            "Enter percentage of students:82.7\n",
            "Enter percentage of students:55.1\n",
            "List of percentage of Students: [80.1, 90.0, 82.1, 82.7, 55.1] \n",
            " Top five scores are\n",
            "[55.1, 80.1, 82.1, 82.7, 90.0]\n"
          ]
        }
      ]
    }
  ]
}